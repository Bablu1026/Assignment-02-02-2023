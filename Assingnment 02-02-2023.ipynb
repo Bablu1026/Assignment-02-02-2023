{
 "cells": [
  {
   "cell_type": "code",
   "execution_count": 1,
   "id": "ca2ddd56-be48-4cf2-8dde-1d6f09d65750",
   "metadata": {},
   "outputs": [
    {
     "name": "stdout",
     "output_type": "stream",
     "text": [
      "apple\n",
      "banana\n",
      "orange\n"
     ]
    }
   ],
   "source": [
    "# Q:1:\n",
    "'''A for loop is used to iterate over a sequence (such as a list, tuple, or string) \n",
    "   and execute a block of code repeatedly for each item in the sequence'''\n",
    "# example\n",
    "fruits = ['apple', 'banana', 'orange']\n",
    "for fruit in fruits:\n",
    "    print(fruit)\n"
   ]
  },
  {
   "cell_type": "code",
   "execution_count": 2,
   "id": "4565996a-63ec-4a59-928b-877de5f148f9",
   "metadata": {},
   "outputs": [
    {
     "name": "stdout",
     "output_type": "stream",
     "text": [
      "1\n",
      "2\n",
      "3\n",
      "4\n",
      "5\n",
      "6\n",
      "7\n",
      "8\n",
      "9\n",
      "10\n"
     ]
    }
   ],
   "source": [
    "'''A while loop  is used when we want to repeatedly execute a block of code as long as a certain condition is true'''\n",
    "# example\n",
    "num = 1\n",
    "while num <= 10:\n",
    "    print(num)\n",
    "    num += 1\n"
   ]
  },
  {
   "cell_type": "code",
   "execution_count": 3,
   "id": "426ffb3d-0c6b-4d97-bfae-69f44c2bb571",
   "metadata": {},
   "outputs": [
    {
     "name": "stdout",
     "output_type": "stream",
     "text": [
      "Sum of the first 10 natural numbers is: 55\n",
      "Product of the first 10 natural numbers is: 3628800\n"
     ]
    }
   ],
   "source": [
    "# Q:2\n",
    "# using for loop\n",
    "# initialize variables\n",
    "sum = 0\n",
    "product = 1\n",
    "for i in range(1, 11):\n",
    "    sum += i\n",
    "    product *= i\n",
    "print(\"Sum of the first 10 natural numbers is:\", sum)\n",
    "print(\"Product of the first 10 natural numbers is:\", product)\n"
   ]
  },
  {
   "cell_type": "code",
   "execution_count": 5,
   "id": "b710d9b5-8890-4389-a945-6972d3450671",
   "metadata": {},
   "outputs": [
    {
     "name": "stdout",
     "output_type": "stream",
     "text": [
      "Sum of first 10 natural numbers: 55\n",
      "Product of first 10 natural numbers: 3628800\n"
     ]
    }
   ],
   "source": [
    "# using while loop\n",
    "n = 10\n",
    "i = 1\n",
    "sum_n = 0\n",
    "prod_n = 1\n",
    "while i <= n:\n",
    "    sum_n += i\n",
    "    prod_n *= i\n",
    "    i += 1\n",
    "print(\"Sum of first 10 natural numbers:\", sum_n)\n",
    "print(\"Product of first 10 natural numbers:\", prod_n)\n",
    "\n"
   ]
  },
  {
   "cell_type": "code",
   "execution_count": 6,
   "id": "e3030719-50c3-4bce-ab3d-31c723052323",
   "metadata": {},
   "outputs": [
    {
     "name": "stdin",
     "output_type": "stream",
     "text": [
      "Enter the units of electricity consumed:  310\n"
     ]
    },
    {
     "name": "stdout",
     "output_type": "stream",
     "text": [
      "The electricity bill for 310 units is Rs. 2250.00\n"
     ]
    }
   ],
   "source": [
    "# Q:3\n",
    "units = int(input(\"Enter the units of electricity consumed: \"))\n",
    "if units <= 100:\n",
    "    bill = units * 4.5\n",
    "elif units <= 200:\n",
    "    bill = 100 * 4.5 + (units - 100) * 6\n",
    "elif units <= 300:\n",
    "    bill = 100 * 4.5 + 100 * 6 + (units - 200) * 10\n",
    "else:\n",
    "    bill = 100 * 4.5 + 100 * 6 + 100 * 10 + (units - 300) * 20\n",
    "print(f\"The electricity bill for {units} units is Rs. {bill:.2f}\")\n"
   ]
  },
  {
   "cell_type": "code",
   "execution_count": 8,
   "id": "33da45e1-e9b6-4d30-b507-dcdc195f8a91",
   "metadata": {},
   "outputs": [
    {
     "name": "stdout",
     "output_type": "stream",
     "text": [
      "[2, 4, 5, 6, 8, 10, 12, 14, 15, 16, 18, 20, 22, 24, 25, 26, 28, 30, 32, 34, 35, 36, 38, 40, 42, 44, 45, 46, 48, 50, 52, 54, 55, 56, 58, 60, 62, 64, 65, 66, 68, 70, 72, 74, 75, 76, 78, 80, 82, 84, 85, 86, 88, 90, 92, 94, 95, 96, 98, 100]\n"
     ]
    }
   ],
   "source": [
    "# Q:4 for loop\n",
    "numbers = list(range(1,101))\n",
    "result = []\n",
    "for num in numbers:\n",
    "    cube = num ** 3\n",
    "    if cube % 4 == 0 or cube % 5 == 0:\n",
    "        result.append(num)\n",
    "print(result)\n"
   ]
  },
  {
   "cell_type": "code",
   "execution_count": 9,
   "id": "93d85a92-6991-4586-a9b9-b4ce3550f488",
   "metadata": {},
   "outputs": [
    {
     "name": "stdout",
     "output_type": "stream",
     "text": [
      "[2, 4, 5, 6, 8, 10, 12, 14, 15, 16, 18, 20, 22, 24, 25, 26, 28, 30, 32, 34, 35, 36, 38, 40, 42, 44, 45, 46, 48, 50, 52, 54, 55, 56, 58, 60, 62, 64, 65, 66, 68, 70, 72, 74, 75, 76, 78, 80, 82, 84, 85, 86, 88, 90, 92, 94, 95, 96, 98, 100]\n"
     ]
    }
   ],
   "source": [
    "# while loop\n",
    "result_list = []\n",
    "num = 1\n",
    "while num <= 100:\n",
    "    cube = num ** 3\n",
    "    if cube % 4 == 0 or cube % 5 == 0:\n",
    "        result_list.append(num)\n",
    "    num += 1\n",
    "print(result_list)\n"
   ]
  },
  {
   "cell_type": "code",
   "execution_count": 14,
   "id": "bba93e8e-b466-4a24-9b68-1e71aedd5e94",
   "metadata": {},
   "outputs": [
    {
     "name": "stdout",
     "output_type": "stream",
     "text": [
      "The total number of vowels in the string is: 12\n"
     ]
    }
   ],
   "source": [
    "# Q:5 \n",
    "string = \"I want to become a data scientist\"\n",
    "vowels = \"aeiouAEIOU\"\n",
    "count = 0\n",
    "for char in string:\n",
    "    if char in vowels:\n",
    "        count += 1\n",
    "print(\"The total number of vowels in the string is:\", count)\n"
   ]
  },
  {
   "cell_type": "code",
   "execution_count": null,
   "id": "609ff4c8-de1e-4457-ac2e-bc7f1572ccb8",
   "metadata": {},
   "outputs": [],
   "source": []
  }
 ],
 "metadata": {
  "kernelspec": {
   "display_name": "Python 3 (ipykernel)",
   "language": "python",
   "name": "python3"
  },
  "language_info": {
   "codemirror_mode": {
    "name": "ipython",
    "version": 3
   },
   "file_extension": ".py",
   "mimetype": "text/x-python",
   "name": "python",
   "nbconvert_exporter": "python",
   "pygments_lexer": "ipython3",
   "version": "3.10.8"
  }
 },
 "nbformat": 4,
 "nbformat_minor": 5
}
